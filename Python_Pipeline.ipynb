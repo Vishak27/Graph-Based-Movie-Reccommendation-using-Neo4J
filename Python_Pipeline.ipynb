{
  "cells": [
    {
      "cell_type": "code",
      "execution_count": 88,
      "metadata": {
        "colab": {
          "base_uri": "https://localhost:8080/"
        },
        "id": "EVWeKh8ndWzs",
        "outputId": "584a6e16-32e4-40e6-c17a-398397c0b63a"
      },
      "outputs": [
        {
          "name": "stdout",
          "output_type": "stream",
          "text": [
            "\u001b[33mDEPRECATION: Configuring installation scheme with distutils config files is deprecated and will no longer work in the near future. If you are using a Homebrew or Linuxbrew Python, please see discussion at https://github.com/Homebrew/homebrew-core/issues/76621\u001b[0m\u001b[33m\n",
            "\u001b[0mRequirement already satisfied: neo4j in /opt/homebrew/lib/python3.9/site-packages (5.7.0)\n",
            "Requirement already satisfied: pytz in /opt/homebrew/lib/python3.9/site-packages (from neo4j) (2022.7.1)\n",
            "\u001b[33mDEPRECATION: Configuring installation scheme with distutils config files is deprecated and will no longer work in the near future. If you are using a Homebrew or Linuxbrew Python, please see discussion at https://github.com/Homebrew/homebrew-core/issues/76621\u001b[0m\u001b[33m\n",
            "\u001b[0m"
          ]
        }
      ],
      "source": [
        "!pip install neo4j"
      ]
    },
    {
      "cell_type": "code",
      "execution_count": 89,
      "metadata": {
        "id": "mGuqdi1wdZLN"
      },
      "outputs": [
        {
          "name": "stdout",
          "output_type": "stream",
          "text": [
            "24679\n"
          ]
        }
      ],
      "source": [
        "from neo4j import GraphDatabase\n",
        "\n",
        "# Set the connection details\n",
        "uri = \"neo4j://localhost:7687\"\n",
        "username = \"neo4j\"\n",
        "password = \"passcode\"\n",
        "\n",
        "# Create the driver and session objects\n",
        "driver = GraphDatabase.driver(uri, auth=(username, password),encrypted=False)\n",
        "session = driver.session()\n",
        "# Run a query\n",
        "result = session.run(\"MATCH (n) RETURN COUNT(n)\")\n",
        "# Print the result\n",
        "for record in result:\n",
        "    print(record[0])"
      ]
    },
    {
      "cell_type": "code",
      "execution_count": 90,
      "metadata": {},
      "outputs": [
        {
          "data": {
            "text/html": [
              "<div>\n",
              "<style scoped>\n",
              "    .dataframe tbody tr th:only-of-type {\n",
              "        vertical-align: middle;\n",
              "    }\n",
              "\n",
              "    .dataframe tbody tr th {\n",
              "        vertical-align: top;\n",
              "    }\n",
              "\n",
              "    .dataframe thead th {\n",
              "        text-align: right;\n",
              "    }\n",
              "</style>\n",
              "<table border=\"1\" class=\"dataframe\">\n",
              "  <thead>\n",
              "    <tr style=\"text-align: right;\">\n",
              "      <th></th>\n",
              "      <th>Name</th>\n",
              "      <th>Year</th>\n",
              "      <th>Duration</th>\n",
              "      <th>Genre</th>\n",
              "      <th>Rating</th>\n",
              "      <th>Votes</th>\n",
              "      <th>Director</th>\n",
              "      <th>Actor 1</th>\n",
              "      <th>Actor 2</th>\n",
              "      <th>Actor 3</th>\n",
              "    </tr>\n",
              "  </thead>\n",
              "  <tbody>\n",
              "    <tr>\n",
              "      <th>0</th>\n",
              "      <td>#Gadhvi (He thought he was Gandhi)</td>\n",
              "      <td>2019</td>\n",
              "      <td>109</td>\n",
              "      <td>Drama</td>\n",
              "      <td>7.0</td>\n",
              "      <td>8</td>\n",
              "      <td>Gaurav Bakshi</td>\n",
              "      <td>Rasika Dugal</td>\n",
              "      <td>Vivek Ghamande</td>\n",
              "      <td>Arvind Jangid</td>\n",
              "    </tr>\n",
              "    <tr>\n",
              "      <th>1</th>\n",
              "      <td>#Yaaram</td>\n",
              "      <td>2019</td>\n",
              "      <td>110</td>\n",
              "      <td>Comedy, Romance</td>\n",
              "      <td>4.4</td>\n",
              "      <td>35</td>\n",
              "      <td>Ovais Khan</td>\n",
              "      <td>Prateik</td>\n",
              "      <td>Ishita Raj</td>\n",
              "      <td>Siddhant Kapoor</td>\n",
              "    </tr>\n",
              "    <tr>\n",
              "      <th>2</th>\n",
              "      <td>...Aur Pyaar Ho Gaya</td>\n",
              "      <td>1997</td>\n",
              "      <td>147</td>\n",
              "      <td>Comedy, Drama, Musical</td>\n",
              "      <td>4.7</td>\n",
              "      <td>827</td>\n",
              "      <td>Rahul Rawail</td>\n",
              "      <td>Bobby Deol</td>\n",
              "      <td>Aishwarya Rai Bachchan</td>\n",
              "      <td>Shammi Kapoor</td>\n",
              "    </tr>\n",
              "    <tr>\n",
              "      <th>3</th>\n",
              "      <td>...Yahaan</td>\n",
              "      <td>2005</td>\n",
              "      <td>142</td>\n",
              "      <td>Drama, Romance, War</td>\n",
              "      <td>7.4</td>\n",
              "      <td>1086</td>\n",
              "      <td>Shoojit Sircar</td>\n",
              "      <td>Jimmy Sheirgill</td>\n",
              "      <td>Minissha Lamba</td>\n",
              "      <td>Yashpal Sharma</td>\n",
              "    </tr>\n",
              "    <tr>\n",
              "      <th>4</th>\n",
              "      <td>?: A Question Mark</td>\n",
              "      <td>2012</td>\n",
              "      <td>82</td>\n",
              "      <td>Horror, Mystery, Thriller</td>\n",
              "      <td>5.6</td>\n",
              "      <td>326</td>\n",
              "      <td>Allyson Patel</td>\n",
              "      <td>Yash Dave</td>\n",
              "      <td>Muntazir Ahmad</td>\n",
              "      <td>Kiran Bhatia</td>\n",
              "    </tr>\n",
              "  </tbody>\n",
              "</table>\n",
              "</div>"
            ],
            "text/plain": [
              "                                 Name  Year  Duration  \\\n",
              "0  #Gadhvi (He thought he was Gandhi)  2019       109   \n",
              "1                             #Yaaram  2019       110   \n",
              "2                ...Aur Pyaar Ho Gaya  1997       147   \n",
              "3                           ...Yahaan  2005       142   \n",
              "4                  ?: A Question Mark  2012        82   \n",
              "\n",
              "                       Genre  Rating  Votes        Director          Actor 1  \\\n",
              "0                      Drama     7.0      8   Gaurav Bakshi     Rasika Dugal   \n",
              "1            Comedy, Romance     4.4     35      Ovais Khan          Prateik   \n",
              "2     Comedy, Drama, Musical     4.7    827    Rahul Rawail       Bobby Deol   \n",
              "3        Drama, Romance, War     7.4   1086  Shoojit Sircar  Jimmy Sheirgill   \n",
              "4  Horror, Mystery, Thriller     5.6    326   Allyson Patel        Yash Dave   \n",
              "\n",
              "                  Actor 2          Actor 3  \n",
              "0          Vivek Ghamande    Arvind Jangid  \n",
              "1              Ishita Raj  Siddhant Kapoor  \n",
              "2  Aishwarya Rai Bachchan    Shammi Kapoor  \n",
              "3          Minissha Lamba   Yashpal Sharma  \n",
              "4          Muntazir Ahmad     Kiran Bhatia  "
            ]
          },
          "execution_count": 90,
          "metadata": {},
          "output_type": "execute_result"
        }
      ],
      "source": [
        "import pandas as pd\n",
        "movies = pd.read_csv(\"movies_data.csv\")\n",
        "movies.head()"
      ]
    },
    {
      "cell_type": "code",
      "execution_count": 82,
      "metadata": {},
      "outputs": [],
      "source": [
        "for movie in range(len(movies)):\n",
        "    query = \"CREATE (:Movie {Name: $Name, Year: $Year, Rating: $Rating})\"\n",
        "    params = {'Name': movies.Name[movie], \"Year\": movies.Year[movie], \"Rating\": movies.Rating[movie]}\n",
        "    with driver.session() as session:\n",
        "        session.run(query, params)"
      ]
    },
    {
      "cell_type": "code",
      "execution_count": 83,
      "metadata": {},
      "outputs": [],
      "source": [
        "# Create nodes for actors\n",
        "for actor in range(len(movies)):\n",
        "    query = \"CREATE (:Actor {Actor1: $Actor1, Actor2: $Actor2, Actor3: $Actor3, Director: $Director})\"\n",
        "    params = {\"Actor1\": movies['Actor 1'][actor], \"Actor2\": movies['Actor 2'][actor], \"Actor3\": movies['Actor 3'][actor], \"Director\": movies['Director'][actor]}\n",
        "    with driver.session() as session:\n",
        "        session.run(query, params)"
      ]
    },
    {
      "cell_type": "code",
      "execution_count": 84,
      "metadata": {},
      "outputs": [],
      "source": [
        "# Create relationships for actors who acted in movies\n",
        "for movie_index, movie in movies.iterrows():\n",
        "    query = \"MATCH (a:Actor {Actor1: $Actor1, Actor2: $Actor2, Actor3: $Actor3}), (m:Movie {Name: $Name}) CREATE (a)-[:ACTED_IN]->(m)\"\n",
        "    params = {'Name': movie['Name'], \"Actor1\": movie['Actor 1'], \"Actor2\": movie['Actor 2'], \"Actor3\": movie['Actor 3']}\n",
        "    with driver.session() as session:\n",
        "        session.run(query, params)"
      ]
    },
    {
      "cell_type": "code",
      "execution_count": 85,
      "metadata": {},
      "outputs": [],
      "source": [
        "for movie in range(len(movies)):\n",
        "    query = \"MATCH (m:Movie {Name: $Name}) CREATE (:Genre {Name: $Genre})\"\n",
        "    genres = movies['Genre'][movie].split(',')\n",
        "    for genre in genres:\n",
        "        params = {'Name': movies.Name[movie], 'Genre': genre.strip()}\n",
        "        with driver.session() as session:\n",
        "            session.run(query, params)"
      ]
    },
    {
      "cell_type": "code",
      "execution_count": 86,
      "metadata": {},
      "outputs": [],
      "source": [
        "# Create relationships between movies and genres\n",
        "for movie in range(len(movies)):\n",
        "    query = \"MATCH (m:Movie {Name: $Name}), (g:Genre {Name: $Genre}) CREATE (m)-[:BELONGS_TO]->(g)\"\n",
        "    genres = movies['Genre'][movie].split(',')\n",
        "    for genre in genres:\n",
        "        params = {'Name': movies.Name[movie], 'Genre': genre.strip()}\n",
        "        with driver.session() as session:\n",
        "            session.run(query, params)"
      ]
    },
    {
      "cell_type": "code",
      "execution_count": 91,
      "metadata": {},
      "outputs": [],
      "source": [
        "from sklearn.feature_extraction.text import TfidfVectorizer\n",
        "from sklearn.metrics.pairwise import cosine_similarity"
      ]
    },
    {
      "cell_type": "code",
      "execution_count": 94,
      "metadata": {},
      "outputs": [],
      "source": [
        "def get_movies(tx):\n",
        "    movies = []\n",
        "    for record in tx.run(\"MATCH (m:Movie) RETURN m.Name AS Name, m.Rating AS Rating\"):\n",
        "        movies.append(record)\n",
        "    return movies"
      ]
    },
    {
      "cell_type": "code",
      "execution_count": 93,
      "metadata": {},
      "outputs": [
        {
          "name": "stderr",
          "output_type": "stream",
          "text": [
            "/var/folders/x7/fc3vnzb90sdcq1ydx20l7_9h0000gn/T/ipykernel_69194/2561505493.py:2: DeprecationWarning: read_transaction has been renamed to execute_read\n",
            "  movies = session.read_transaction(get_movies)\n"
          ]
        }
      ],
      "source": [
        "with driver.session() as session:\n",
        "    movies = session.read_transaction(get_movies)"
      ]
    },
    {
      "cell_type": "code",
      "execution_count": 95,
      "metadata": {},
      "outputs": [],
      "source": [
        "import pandas as pd\n",
        "movie_data = pd.DataFrame(movies, columns=[\"Name\", \"Rating\"])"
      ]
    },
    {
      "cell_type": "code",
      "execution_count": null,
      "metadata": {},
      "outputs": [],
      "source": []
    },
    {
      "cell_type": "code",
      "execution_count": 87,
      "metadata": {},
      "outputs": [],
      "source": [
        "# Close the session and driver\n",
        "session.close()\n",
        "driver.close()"
      ]
    }
  ],
  "metadata": {
    "colab": {
      "provenance": []
    },
    "kernelspec": {
      "display_name": "Python 3.9.10 64-bit",
      "language": "python",
      "name": "python3"
    },
    "language_info": {
      "codemirror_mode": {
        "name": "ipython",
        "version": 3
      },
      "file_extension": ".py",
      "mimetype": "text/x-python",
      "name": "python",
      "nbconvert_exporter": "python",
      "pygments_lexer": "ipython3",
      "version": "3.9.10"
    },
    "vscode": {
      "interpreter": {
        "hash": "b0fa6594d8f4cbf19f97940f81e996739fb7646882a419484c72d19e05852a7e"
      }
    }
  },
  "nbformat": 4,
  "nbformat_minor": 0
}
